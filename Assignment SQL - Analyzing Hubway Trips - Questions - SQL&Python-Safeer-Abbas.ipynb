{
 "cells": [
  {
   "cell_type": "markdown",
   "metadata": {
    "id": "jnaUBXiD90TP"
   },
   "source": [
    "# Analyzing Hubway Trips in SQL"
   ]
  },
  {
   "cell_type": "code",
   "execution_count": 1,
   "metadata": {
    "collapsed": true,
    "id": "HAeLs-2TADoE"
   },
   "outputs": [
    {
     "name": "stdout",
     "output_type": "stream",
     "text": [
      "Requirement already satisfied: jupysql in c:\\users\\cyber land 1\\appdata\\local\\programs\\python\\python313\\lib\\site-packages (0.10.17)\n",
      "Requirement already satisfied: prettytable>=3.12.0 in c:\\users\\cyber land 1\\appdata\\local\\programs\\python\\python313\\lib\\site-packages (from jupysql) (3.14.0)\n",
      "Requirement already satisfied: sqlalchemy in c:\\users\\cyber land 1\\appdata\\local\\programs\\python\\python313\\lib\\site-packages (from jupysql) (2.0.38)\n",
      "Requirement already satisfied: sqlparse in c:\\users\\cyber land 1\\appdata\\local\\programs\\python\\python313\\lib\\site-packages (from jupysql) (0.5.3)\n",
      "Requirement already satisfied: ipython-genutils>=0.1.0 in c:\\users\\cyber land 1\\appdata\\local\\programs\\python\\python313\\lib\\site-packages (from jupysql) (0.2.0)\n",
      "Requirement already satisfied: jinja2 in c:\\users\\cyber land 1\\appdata\\local\\programs\\python\\python313\\lib\\site-packages (from jupysql) (3.1.5)\n",
      "Requirement already satisfied: sqlglot>=11.3.7 in c:\\users\\cyber land 1\\appdata\\local\\programs\\python\\python313\\lib\\site-packages (from jupysql) (26.6.0)\n",
      "Requirement already satisfied: jupysql-plugin>=0.4.2 in c:\\users\\cyber land 1\\appdata\\local\\programs\\python\\python313\\lib\\site-packages (from jupysql) (0.4.5)\n",
      "Requirement already satisfied: ploomber-core>=0.2.7 in c:\\users\\cyber land 1\\appdata\\local\\programs\\python\\python313\\lib\\site-packages (from jupysql) (0.2.26)\n",
      "Requirement already satisfied: pyyaml in c:\\users\\cyber land 1\\appdata\\local\\programs\\python\\python313\\lib\\site-packages (from ploomber-core>=0.2.7->jupysql) (6.0.2)\n",
      "Requirement already satisfied: posthog in c:\\users\\cyber land 1\\appdata\\local\\programs\\python\\python313\\lib\\site-packages (from ploomber-core>=0.2.7->jupysql) (3.15.0)\n",
      "Requirement already satisfied: wcwidth in c:\\users\\cyber land 1\\appdata\\roaming\\python\\python313\\site-packages (from prettytable>=3.12.0->jupysql) (0.2.13)\n",
      "Requirement already satisfied: MarkupSafe>=2.0 in c:\\users\\cyber land 1\\appdata\\local\\programs\\python\\python313\\lib\\site-packages (from jinja2->jupysql) (3.0.2)\n",
      "Requirement already satisfied: greenlet!=0.4.17 in c:\\users\\cyber land 1\\appdata\\local\\programs\\python\\python313\\lib\\site-packages (from sqlalchemy->jupysql) (3.1.1)\n",
      "Requirement already satisfied: typing-extensions>=4.6.0 in c:\\users\\cyber land 1\\appdata\\local\\programs\\python\\python313\\lib\\site-packages (from sqlalchemy->jupysql) (4.12.2)\n",
      "Requirement already satisfied: requests<3.0,>=2.7 in c:\\users\\cyber land 1\\appdata\\local\\programs\\python\\python313\\lib\\site-packages (from posthog->ploomber-core>=0.2.7->jupysql) (2.32.3)\n",
      "Requirement already satisfied: six>=1.5 in c:\\users\\cyber land 1\\appdata\\roaming\\python\\python313\\site-packages (from posthog->ploomber-core>=0.2.7->jupysql) (1.17.0)\n",
      "Requirement already satisfied: monotonic>=1.5 in c:\\users\\cyber land 1\\appdata\\local\\programs\\python\\python313\\lib\\site-packages (from posthog->ploomber-core>=0.2.7->jupysql) (1.6)\n",
      "Requirement already satisfied: backoff>=1.10.0 in c:\\users\\cyber land 1\\appdata\\local\\programs\\python\\python313\\lib\\site-packages (from posthog->ploomber-core>=0.2.7->jupysql) (2.2.1)\n",
      "Requirement already satisfied: python-dateutil>2.1 in c:\\users\\cyber land 1\\appdata\\roaming\\python\\python313\\site-packages (from posthog->ploomber-core>=0.2.7->jupysql) (2.9.0.post0)\n",
      "Requirement already satisfied: charset-normalizer<4,>=2 in c:\\users\\cyber land 1\\appdata\\local\\programs\\python\\python313\\lib\\site-packages (from requests<3.0,>=2.7->posthog->ploomber-core>=0.2.7->jupysql) (3.4.1)\n",
      "Requirement already satisfied: idna<4,>=2.5 in c:\\users\\cyber land 1\\appdata\\local\\programs\\python\\python313\\lib\\site-packages (from requests<3.0,>=2.7->posthog->ploomber-core>=0.2.7->jupysql) (3.10)\n",
      "Requirement already satisfied: urllib3<3,>=1.21.1 in c:\\users\\cyber land 1\\appdata\\local\\programs\\python\\python313\\lib\\site-packages (from requests<3.0,>=2.7->posthog->ploomber-core>=0.2.7->jupysql) (2.3.0)\n",
      "Requirement already satisfied: certifi>=2017.4.17 in c:\\users\\cyber land 1\\appdata\\local\\programs\\python\\python313\\lib\\site-packages (from requests<3.0,>=2.7->posthog->ploomber-core>=0.2.7->jupysql) (2025.1.31)\n"
     ]
    },
    {
     "name": "stderr",
     "output_type": "stream",
     "text": [
      "\n",
      "[notice] A new release of pip is available: 24.3.1 -> 25.0.1\n",
      "[notice] To update, run: python.exe -m pip install --upgrade pip\n"
     ]
    }
   ],
   "source": [
    "#You will have to install ipython-sql using the following command:\n",
    "\n",
    "!pip install jupysql\n",
    "\n",
    "#Just Execute the cell and it will install"
   ]
  },
  {
   "cell_type": "code",
   "execution_count": 2,
   "metadata": {
    "colab": {
     "base_uri": "https://localhost:8080/",
     "height": 34
    },
    "execution": {
     "iopub.execute_input": "2020-10-21T08:48:37.270Z",
     "iopub.status.busy": "2020-10-21T08:48:37.251Z",
     "iopub.status.idle": "2020-10-21T08:48:37.303Z",
     "shell.execute_reply": "2020-10-21T08:48:37.320Z"
    },
    "executionInfo": {
     "elapsed": 3260,
     "status": "ok",
     "timestamp": 1739814167260,
     "user": {
      "displayName": "Mesum Raza Hemani",
      "userId": "02137032281712867702"
     },
     "user_tz": -300
    },
    "id": "sy4EsMOH90TR",
    "outputId": "60dcc332-9d45-4cbe-ff80-e03f5a3f6182"
   },
   "outputs": [
    {
     "data": {
      "text/html": [
       "<span style=\"None\">Connecting to &#x27;sqlite:///hubway.db&#x27;</span>"
      ],
      "text/plain": [
       "Connecting to 'sqlite:///hubway.db'"
      ]
     },
     "metadata": {},
     "output_type": "display_data"
    }
   ],
   "source": [
    "# If your file is in another Directory (Without Space in Name of Directory) : %sql sqlite:///Hello/Another_Folder/hubway_small_ok.db\n",
    "\n",
    "# If your file is in Same Directory : %sql sqlite:///hubway_small_ok.db\n",
    "\n",
    "%reload_ext sql\n",
    "%sql sqlite:///hubway.db\n",
    "%config SqlMagic.autocommit=False"
   ]
  },
  {
   "cell_type": "markdown",
   "metadata": {
    "id": "I84hmu-B90TV"
   },
   "source": [
    "**Please write your queries below in the empty boxes same as you write in a SQL Window**\n",
    "\n",
    "Just append **%sql** before your query like this '%sql Select * from Trips limit 5;'"
   ]
  },
  {
   "cell_type": "code",
   "execution_count": 3,
   "metadata": {
    "colab": {
     "base_uri": "https://localhost:8080/",
     "height": 100
    },
    "execution": {
     "iopub.execute_input": "2020-10-21T09:36:52.747Z",
     "iopub.status.busy": "2020-10-21T09:36:52.736Z",
     "iopub.status.idle": "2020-10-21T09:36:52.784Z",
     "shell.execute_reply": "2020-10-21T09:36:52.796Z"
    },
    "executionInfo": {
     "elapsed": 345,
     "status": "ok",
     "timestamp": 1739814168635,
     "user": {
      "displayName": "Mesum Raza Hemani",
      "userId": "02137032281712867702"
     },
     "user_tz": -300
    },
    "id": "3EQywREo90TW",
    "outputId": "22eb9314-c1bb-4774-cf61-92355e92741e"
   },
   "outputs": [
    {
     "data": {
      "text/html": [
       "<span style=\"None\">Running query in &#x27;sqlite:///hubway.db&#x27;</span>"
      ],
      "text/plain": [
       "Running query in 'sqlite:///hubway.db'"
      ]
     },
     "metadata": {},
     "output_type": "display_data"
    },
    {
     "data": {
      "text/html": [
       "<table>\n",
       "    <thead>\n",
       "        <tr>\n",
       "            <th>id</th>\n",
       "            <th>duration</th>\n",
       "            <th>start_date</th>\n",
       "            <th>start_station</th>\n",
       "            <th>end_date</th>\n",
       "            <th>end_station</th>\n",
       "            <th>bike_number</th>\n",
       "            <th>sub_type</th>\n",
       "            <th>zip_code</th>\n",
       "            <th>birth_date</th>\n",
       "            <th>gender</th>\n",
       "        </tr>\n",
       "    </thead>\n",
       "    <tbody>\n",
       "        <tr>\n",
       "            <td>1</td>\n",
       "            <td>9</td>\n",
       "            <td>2011-07-28 10:12:00</td>\n",
       "            <td>23</td>\n",
       "            <td>2011-07-28 10:12:00</td>\n",
       "            <td>23</td>\n",
       "            <td>B00468</td>\n",
       "            <td>Registered</td>\n",
       "            <td>'97217</td>\n",
       "            <td>1976.0</td>\n",
       "            <td>Male</td>\n",
       "        </tr>\n",
       "        <tr>\n",
       "            <td>2</td>\n",
       "            <td>220</td>\n",
       "            <td>2011-07-28 10:21:00</td>\n",
       "            <td>23</td>\n",
       "            <td>2011-07-28 10:25:00</td>\n",
       "            <td>23</td>\n",
       "            <td>B00554</td>\n",
       "            <td>Registered</td>\n",
       "            <td>'02215</td>\n",
       "            <td>1966.0</td>\n",
       "            <td>Male</td>\n",
       "        </tr>\n",
       "    </tbody>\n",
       "</table>"
      ],
      "text/plain": [
       "+----+----------+---------------------+---------------+---------------------+-------------+-------------+------------+----------+------------+--------+\n",
       "| id | duration |      start_date     | start_station |       end_date      | end_station | bike_number |  sub_type  | zip_code | birth_date | gender |\n",
       "+----+----------+---------------------+---------------+---------------------+-------------+-------------+------------+----------+------------+--------+\n",
       "| 1  |    9     | 2011-07-28 10:12:00 |       23      | 2011-07-28 10:12:00 |      23     |    B00468   | Registered |  '97217  |   1976.0   |  Male  |\n",
       "| 2  |   220    | 2011-07-28 10:21:00 |       23      | 2011-07-28 10:25:00 |      23     |    B00554   | Registered |  '02215  |   1966.0   |  Male  |\n",
       "+----+----------+---------------------+---------------+---------------------+-------------+-------------+------------+----------+------------+--------+"
      ]
     },
     "execution_count": 3,
     "metadata": {},
     "output_type": "execute_result"
    }
   ],
   "source": [
    "%%sql\n",
    "\n",
    "Select * from Trips limit 2"
   ]
  },
  {
   "cell_type": "markdown",
   "metadata": {
    "id": "VjnOTBKt90Ta"
   },
   "source": [
    "**About the Dataset and Schema**\n",
    "\n",
    "The database has two tables, trips and stations. To begin with, we'll look at the trips table. It contains the following columns:\n",
    "\n",
    "\n",
    "**Trips:**\n",
    "\n",
    "id — A unique integer that serves as a reference for each trip\n",
    "\n",
    "duration — The duration of the trip, measured in seconds\n",
    "\n",
    "start_date — The date and time the trip began\n",
    "\n",
    "start_station — An integer that corresponds to the id column in the stations table for the station the trip started at\n",
    "\n",
    "end_date — The date and time the trip ended\n",
    "\n",
    "end_station — The 'id' of the station the trip ended at\n",
    "\n",
    "bike_number — Hubway's unique identifier for the bike used on the trip\n",
    "\n",
    "sub_type — The subscription type of the user. \"Registered\" for users with a membership, \"Casual\" for users without a membership\n",
    "\n",
    "zip_code — The zip code of the user (only available for registered members)\n",
    "\n",
    "birth_date — The birth year of the user (only available for registered members)\n",
    "\n",
    "gender — The gender of the user (only available for registered members)\n",
    "\n",
    "\n",
    "**Station:**\n",
    "\n",
    "\n",
    "id — A unique identifier for each station (corresponds to the start_station and end_station columns in the trips table)\n",
    "\n",
    "station — The station name\n",
    "\n",
    "municipality — The municipality that the station is in (Boston, Brookline, Cambridge or Somerville)\n",
    "\n",
    "lat — The latitude of the station\n",
    "\n",
    "lng — The longitude of the station"
   ]
  },
  {
   "cell_type": "markdown",
   "metadata": {
    "id": "hKDibiAy90Tb"
   },
   "source": [
    "## Analytical Questions Test in SQL"
   ]
  },
  {
   "cell_type": "markdown",
   "metadata": {
    "id": "CwBUDLCf90Tc"
   },
   "source": [
    "Q1. What was the duration of the longest trip? What was the average trip duration? What was the smallest trip duration?"
   ]
  },
  {
   "cell_type": "code",
   "execution_count": 4,
   "metadata": {
    "colab": {
     "base_uri": "https://localhost:8080/",
     "height": 95
    },
    "executionInfo": {
     "elapsed": 377,
     "status": "ok",
     "timestamp": 1725720713698,
     "user": {
      "displayName": "Mesum Raza Hemani",
      "userId": "02137032281712867702"
     },
     "user_tz": -300
    },
    "id": "OW5Sd0Ri90Tc",
    "outputId": "bded065f-fc84-4168-cfed-60974fdc28d7"
   },
   "outputs": [
    {
     "data": {
      "text/html": [
       "<span style=\"None\">Running query in &#x27;sqlite:///hubway.db&#x27;</span>"
      ],
      "text/plain": [
       "Running query in 'sqlite:///hubway.db'"
      ]
     },
     "metadata": {},
     "output_type": "display_data"
    },
    {
     "data": {
      "text/html": [
       "<table>\n",
       "    <thead>\n",
       "        <tr>\n",
       "            <th>longest_duration</th>\n",
       "            <th>avg_duration</th>\n",
       "            <th>Smallest_duration</th>\n",
       "        </tr>\n",
       "    </thead>\n",
       "    <tbody>\n",
       "        <tr>\n",
       "            <td>9999</td>\n",
       "            <td>912.41</td>\n",
       "            <td>0</td>\n",
       "        </tr>\n",
       "    </tbody>\n",
       "</table>"
      ],
      "text/plain": [
       "+------------------+--------------+-------------------+\n",
       "| longest_duration | avg_duration | Smallest_duration |\n",
       "+------------------+--------------+-------------------+\n",
       "|       9999       |    912.41    |         0         |\n",
       "+------------------+--------------+-------------------+"
      ]
     },
     "execution_count": 4,
     "metadata": {},
     "output_type": "execute_result"
    }
   ],
   "source": [
    "\n",
    "%%sql\n",
    "\n",
    "select max(duration) longest_duration, round(avg(duration),2) avg_duration,min(duration)\n",
    "Smallest_duration\n",
    "from trips\n"
   ]
  },
  {
   "cell_type": "markdown",
   "metadata": {
    "id": "1eK00otH90Tg"
   },
   "source": [
    "Q2. How many trips were taken by 'Registered' users?\n",
    "\n",
    "Hint: Use Sub Type to Filter by Where"
   ]
  },
  {
   "cell_type": "code",
   "execution_count": 5,
   "metadata": {
    "id": "fDtqSAsl90Tg",
    "outputId": "5cb23c31-48b4-4da6-908c-b7b26fad2955"
   },
   "outputs": [
    {
     "data": {
      "text/html": [
       "<span style=\"None\">Running query in &#x27;sqlite:///hubway.db&#x27;</span>"
      ],
      "text/plain": [
       "Running query in 'sqlite:///hubway.db'"
      ]
     },
     "metadata": {},
     "output_type": "display_data"
    },
    {
     "data": {
      "text/html": [
       "<table>\n",
       "    <thead>\n",
       "        <tr>\n",
       "            <th>registered_trips</th>\n",
       "        </tr>\n",
       "    </thead>\n",
       "    <tbody>\n",
       "        <tr>\n",
       "            <td>1105192</td>\n",
       "        </tr>\n",
       "    </tbody>\n",
       "</table>"
      ],
      "text/plain": [
       "+------------------+\n",
       "| registered_trips |\n",
       "+------------------+\n",
       "|     1105192      |\n",
       "+------------------+"
      ]
     },
     "execution_count": 5,
     "metadata": {},
     "output_type": "execute_result"
    }
   ],
   "source": [
    "%%sql\n",
    "SELECT COUNT(*) as registered_trips\n",
    "FROM trips\n",
    "WHERE sub_type = 'Registered'"
   ]
  },
  {
   "cell_type": "markdown",
   "metadata": {
    "id": "RiYQ1YmB90Tk"
   },
   "source": [
    "Q3. How many trips were taken by male users in comparison to Female users? for Registered users only\n",
    "\n",
    "Hint: Group By Gender and Calculate Count"
   ]
  },
  {
   "cell_type": "code",
   "execution_count": 6,
   "metadata": {
    "id": "P8KHXkUM90Tl"
   },
   "outputs": [
    {
     "data": {
      "text/html": [
       "<span style=\"None\">Running query in &#x27;sqlite:///hubway.db&#x27;</span>"
      ],
      "text/plain": [
       "Running query in 'sqlite:///hubway.db'"
      ]
     },
     "metadata": {},
     "output_type": "display_data"
    },
    {
     "data": {
      "text/html": [
       "<table>\n",
       "    <thead>\n",
       "        <tr>\n",
       "            <th>gender</th>\n",
       "            <th>number_of_trips</th>\n",
       "        </tr>\n",
       "    </thead>\n",
       "    <tbody>\n",
       "        <tr>\n",
       "            <td>Male</td>\n",
       "            <td>833858</td>\n",
       "        </tr>\n",
       "        <tr>\n",
       "            <td>Female</td>\n",
       "            <td>271333</td>\n",
       "        </tr>\n",
       "        <tr>\n",
       "            <td>Female<br></td>\n",
       "            <td>1</td>\n",
       "        </tr>\n",
       "    </tbody>\n",
       "</table>"
      ],
      "text/plain": [
       "+--------+-----------------+\n",
       "| gender | number_of_trips |\n",
       "+--------+-----------------+\n",
       "|  Male  |      833858     |\n",
       "| Female |      271333     |\n",
       "| Female |        1        |\n",
       "|        |                 |\n",
       "+--------+-----------------+"
      ]
     },
     "execution_count": 6,
     "metadata": {},
     "output_type": "execute_result"
    }
   ],
   "source": [
    "%%sql\n",
    "SELECT gender,\n",
    "       COUNT(*) as number_of_trips\n",
    "FROM trips\n",
    "WHERE sub_type = 'Registered'\n",
    "  AND gender IS NOT NULL\n",
    "GROUP BY gender\n",
    "ORDER BY number_of_trips DESC"
   ]
  },
  {
   "cell_type": "markdown",
   "metadata": {},
   "source": [
    "There's an unusual duplicate \"Female\" row with just 1 trip\n",
    "There's also an empty row (likely representing NULL or empty values)\n",
    "To clean this up, we can modify the query to:"
   ]
  },
  {
   "cell_type": "code",
   "execution_count": 7,
   "metadata": {},
   "outputs": [
    {
     "data": {
      "text/html": [
       "<span style=\"None\">Running query in &#x27;sqlite:///hubway.db&#x27;</span>"
      ],
      "text/plain": [
       "Running query in 'sqlite:///hubway.db'"
      ]
     },
     "metadata": {},
     "output_type": "display_data"
    },
    {
     "data": {
      "text/html": [
       "<table>\n",
       "    <thead>\n",
       "        <tr>\n",
       "            <th>gender</th>\n",
       "            <th>number_of_trips</th>\n",
       "        </tr>\n",
       "    </thead>\n",
       "    <tbody>\n",
       "        <tr>\n",
       "            <td>Male</td>\n",
       "            <td>833858</td>\n",
       "        </tr>\n",
       "        <tr>\n",
       "            <td>Female</td>\n",
       "            <td>271333</td>\n",
       "        </tr>\n",
       "    </tbody>\n",
       "</table>"
      ],
      "text/plain": [
       "+--------+-----------------+\n",
       "| gender | number_of_trips |\n",
       "+--------+-----------------+\n",
       "|  Male  |      833858     |\n",
       "| Female |      271333     |\n",
       "+--------+-----------------+"
      ]
     },
     "execution_count": 7,
     "metadata": {},
     "output_type": "execute_result"
    }
   ],
   "source": [
    "%%sql\n",
    "SELECT gender,\n",
    "       COUNT(*) as number_of_trips\n",
    "FROM trips\n",
    "WHERE sub_type = 'Registered'\n",
    "  AND gender IN ('Male', 'Female')\n",
    "GROUP BY gender\n",
    "ORDER BY number_of_trips DESC"
   ]
  },
  {
   "cell_type": "markdown",
   "metadata": {
    "id": "TUYa6eNh90Tq"
   },
   "source": [
    "Q4. Do registered or casual users take longer trips?\n",
    "\n",
    "Hint: Group By Sub Type and Calculate Average"
   ]
  },
  {
   "cell_type": "code",
   "execution_count": 8,
   "metadata": {
    "id": "ZZ7VJRul90Tq"
   },
   "outputs": [
    {
     "data": {
      "text/html": [
       "<span style=\"None\">Running query in &#x27;sqlite:///hubway.db&#x27;</span>"
      ],
      "text/plain": [
       "Running query in 'sqlite:///hubway.db'"
      ]
     },
     "metadata": {},
     "output_type": "display_data"
    },
    {
     "data": {
      "text/html": [
       "<table>\n",
       "    <thead>\n",
       "        <tr>\n",
       "            <th>sub_type</th>\n",
       "            <th>number_of_trips</th>\n",
       "            <th>avg_duration_seconds</th>\n",
       "        </tr>\n",
       "    </thead>\n",
       "    <tbody>\n",
       "        <tr>\n",
       "            <td>Casual</td>\n",
       "            <td>464809</td>\n",
       "            <td>1519.64</td>\n",
       "        </tr>\n",
       "        <tr>\n",
       "            <td>Registered</td>\n",
       "            <td>1105192</td>\n",
       "            <td>657.03</td>\n",
       "        </tr>\n",
       "    </tbody>\n",
       "</table>"
      ],
      "text/plain": [
       "+------------+-----------------+----------------------+\n",
       "|  sub_type  | number_of_trips | avg_duration_seconds |\n",
       "+------------+-----------------+----------------------+\n",
       "|   Casual   |      464809     |       1519.64        |\n",
       "| Registered |     1105192     |        657.03        |\n",
       "+------------+-----------------+----------------------+"
      ]
     },
     "execution_count": 8,
     "metadata": {},
     "output_type": "execute_result"
    }
   ],
   "source": [
    "%%sql\n",
    "SELECT sub_type,\n",
    "       COUNT(*) as number_of_trips,\n",
    "       ROUND(AVG(duration), 2) as avg_duration_seconds\n",
    "FROM trips\n",
    "GROUP BY sub_type\n",
    "ORDER BY avg_duration_seconds DESC"
   ]
  },
  {
   "cell_type": "markdown",
   "metadata": {},
   "source": [
    "converting same into minutes"
   ]
  },
  {
   "cell_type": "code",
   "execution_count": 9,
   "metadata": {},
   "outputs": [
    {
     "data": {
      "text/html": [
       "<span style=\"None\">Running query in &#x27;sqlite:///hubway.db&#x27;</span>"
      ],
      "text/plain": [
       "Running query in 'sqlite:///hubway.db'"
      ]
     },
     "metadata": {},
     "output_type": "display_data"
    },
    {
     "data": {
      "text/html": [
       "<table>\n",
       "    <thead>\n",
       "        <tr>\n",
       "            <th>sub_type</th>\n",
       "            <th>number_of_trips</th>\n",
       "            <th>avg_duration_minutes</th>\n",
       "        </tr>\n",
       "    </thead>\n",
       "    <tbody>\n",
       "        <tr>\n",
       "            <td>Casual</td>\n",
       "            <td>464809</td>\n",
       "            <td>25.33</td>\n",
       "        </tr>\n",
       "        <tr>\n",
       "            <td>Registered</td>\n",
       "            <td>1105192</td>\n",
       "            <td>10.95</td>\n",
       "        </tr>\n",
       "    </tbody>\n",
       "</table>"
      ],
      "text/plain": [
       "+------------+-----------------+----------------------+\n",
       "|  sub_type  | number_of_trips | avg_duration_minutes |\n",
       "+------------+-----------------+----------------------+\n",
       "|   Casual   |      464809     |        25.33         |\n",
       "| Registered |     1105192     |        10.95         |\n",
       "+------------+-----------------+----------------------+"
      ]
     },
     "execution_count": 9,
     "metadata": {},
     "output_type": "execute_result"
    }
   ],
   "source": [
    "%%sql\n",
    "SELECT sub_type,\n",
    "       COUNT(*) as number_of_trips,\n",
    "       ROUND(AVG(duration)/60.0, 2) as avg_duration_minutes  -- Converting seconds to minutes\n",
    "FROM trips\n",
    "GROUP BY sub_type\n",
    "ORDER BY avg_duration_minutes DESC"
   ]
  },
  {
   "cell_type": "markdown",
   "metadata": {
    "id": "hv9m6dsv90Tu"
   },
   "source": [
    "Q5. Which bike was used for the most trips?\n",
    "\n",
    "Hint : Use Bike Number and Limit Results to 1"
   ]
  },
  {
   "cell_type": "code",
   "execution_count": 10,
   "metadata": {
    "id": "8LIAd_iv90Tv"
   },
   "outputs": [
    {
     "data": {
      "text/html": [
       "<span style=\"None\">Running query in &#x27;sqlite:///hubway.db&#x27;</span>"
      ],
      "text/plain": [
       "Running query in 'sqlite:///hubway.db'"
      ]
     },
     "metadata": {},
     "output_type": "display_data"
    },
    {
     "data": {
      "text/html": [
       "<table>\n",
       "    <thead>\n",
       "        <tr>\n",
       "            <th>bike_number</th>\n",
       "            <th>number_of_trips</th>\n",
       "        </tr>\n",
       "    </thead>\n",
       "    <tbody>\n",
       "        <tr>\n",
       "            <td>B00490</td>\n",
       "            <td>2120</td>\n",
       "        </tr>\n",
       "    </tbody>\n",
       "</table>"
      ],
      "text/plain": [
       "+-------------+-----------------+\n",
       "| bike_number | number_of_trips |\n",
       "+-------------+-----------------+\n",
       "|    B00490   |       2120      |\n",
       "+-------------+-----------------+"
      ]
     },
     "execution_count": 10,
     "metadata": {},
     "output_type": "execute_result"
    }
   ],
   "source": [
    "%%sql\n",
    "SELECT bike_number,\n",
    "       COUNT(*) as number_of_trips\n",
    "FROM trips\n",
    "GROUP BY bike_number\n",
    "ORDER BY number_of_trips DESC\n",
    "LIMIT 1"
   ]
  },
  {
   "cell_type": "markdown",
   "metadata": {
    "id": "cf3TVN2C90Tx"
   },
   "source": [
    "Q6. What is the average duration of trips by users over the age of 30?\n",
    "\n",
    "Hint : DoB is already in years and use Airthmetic operator to caluculate Age like (2025-DOB)\n",
    "\n",
    "Link : #GETTING AGE IN SQLLITE : https://stackoverflow.com/questions/49929953/how-to-calculate-approximate-age-based-on-birth-year"
   ]
  },
  {
   "cell_type": "code",
   "execution_count": 12,
   "metadata": {
    "id": "BmVwA2Lm90Ty"
   },
   "outputs": [
    {
     "data": {
      "text/html": [
       "<span style=\"None\">Running query in &#x27;sqlite:///hubway.db&#x27;</span>"
      ],
      "text/plain": [
       "Running query in 'sqlite:///hubway.db'"
      ]
     },
     "metadata": {},
     "output_type": "display_data"
    },
    {
     "data": {
      "text/html": [
       "<table>\n",
       "    <thead>\n",
       "        <tr>\n",
       "            <th>avg_duration_seconds</th>\n",
       "        </tr>\n",
       "    </thead>\n",
       "    <tbody>\n",
       "        <tr>\n",
       "            <td>661.5</td>\n",
       "        </tr>\n",
       "    </tbody>\n",
       "</table>"
      ],
      "text/plain": [
       "+----------------------+\n",
       "| avg_duration_seconds |\n",
       "+----------------------+\n",
       "|        661.5         |\n",
       "+----------------------+"
      ]
     },
     "execution_count": 12,
     "metadata": {},
     "output_type": "execute_result"
    }
   ],
   "source": [
    "%%sql\n",
    "SELECT ROUND(AVG(duration), 2) as avg_duration_seconds\n",
    "FROM trips\n",
    "WHERE sub_type = 'Registered'\n",
    "  AND birth_date IS NOT NULL\n",
    "  AND (2015 - birth_date) > 30"
   ]
  },
  {
   "cell_type": "markdown",
   "metadata": {
    "id": "ucw8rEnY90T0"
   },
   "source": [
    "Q7. Which stations are most frequently used for round trips?\n",
    "\n",
    "Hint: Round trip is considered as where Start and Stop Stations are same. Limit to top 5 Stations"
   ]
  },
  {
   "cell_type": "code",
   "execution_count": 13,
   "metadata": {
    "id": "Ew6vmqkZ90T1",
    "tags": []
   },
   "outputs": [
    {
     "data": {
      "text/html": [
       "<span style=\"None\">Running query in &#x27;sqlite:///hubway.db&#x27;</span>"
      ],
      "text/plain": [
       "Running query in 'sqlite:///hubway.db'"
      ]
     },
     "metadata": {},
     "output_type": "display_data"
    },
    {
     "data": {
      "text/html": [
       "<table>\n",
       "    <thead>\n",
       "        <tr>\n",
       "            <th>station_name</th>\n",
       "            <th>round_trips</th>\n",
       "        </tr>\n",
       "    </thead>\n",
       "    <tbody>\n",
       "        <tr>\n",
       "            <td>The Esplanade - Beacon St. at Arlington St.</td>\n",
       "            <td>3064</td>\n",
       "        </tr>\n",
       "        <tr>\n",
       "            <td>Boston Public Library - 700 Boylston St.</td>\n",
       "            <td>2548</td>\n",
       "        </tr>\n",
       "        <tr>\n",
       "            <td>Boylston St. at Arlington St.</td>\n",
       "            <td>2163</td>\n",
       "        </tr>\n",
       "        <tr>\n",
       "            <td>Beacon St / Mass Ave</td>\n",
       "            <td>2144</td>\n",
       "        </tr>\n",
       "        <tr>\n",
       "            <td>Newbury St / Hereford St</td>\n",
       "            <td>1636</td>\n",
       "        </tr>\n",
       "    </tbody>\n",
       "</table>"
      ],
      "text/plain": [
       "+---------------------------------------------+-------------+\n",
       "|                 station_name                | round_trips |\n",
       "+---------------------------------------------+-------------+\n",
       "| The Esplanade - Beacon St. at Arlington St. |     3064    |\n",
       "|   Boston Public Library - 700 Boylston St.  |     2548    |\n",
       "|        Boylston St. at Arlington St.        |     2163    |\n",
       "|             Beacon St / Mass Ave            |     2144    |\n",
       "|           Newbury St / Hereford St          |     1636    |\n",
       "+---------------------------------------------+-------------+"
      ]
     },
     "execution_count": 13,
     "metadata": {},
     "output_type": "execute_result"
    }
   ],
   "source": [
    "%%sql\n",
    "SELECT s.station as station_name,\n",
    "       COUNT(*) as round_trips\n",
    "FROM trips t\n",
    "JOIN stations s ON t.start_station = s.id\n",
    "WHERE t.start_station = t.end_station\n",
    "GROUP BY t.start_station\n",
    "ORDER BY round_trips DESC\n",
    "LIMIT 5"
   ]
  },
  {
   "cell_type": "markdown",
   "metadata": {
    "id": "gitxlr_Q90T3"
   },
   "source": [
    "Q8. How many trips start and end in different municipalities?\n",
    "\n",
    "Hint: We need to JOIN the trips table to the stations table twice. Once ON the start_station column and then ON the end_station"
   ]
  },
  {
   "cell_type": "code",
   "execution_count": 14,
   "metadata": {
    "id": "hSxmcbWY90T4"
   },
   "outputs": [
    {
     "data": {
      "text/html": [
       "<span style=\"None\">Running query in &#x27;sqlite:///hubway.db&#x27;</span>"
      ],
      "text/plain": [
       "Running query in 'sqlite:///hubway.db'"
      ]
     },
     "metadata": {},
     "output_type": "display_data"
    },
    {
     "data": {
      "text/html": [
       "<table>\n",
       "    <thead>\n",
       "        <tr>\n",
       "            <th>different_municipality_trips</th>\n",
       "        </tr>\n",
       "    </thead>\n",
       "    <tbody>\n",
       "        <tr>\n",
       "            <td>309748</td>\n",
       "        </tr>\n",
       "    </tbody>\n",
       "</table>"
      ],
      "text/plain": [
       "+------------------------------+\n",
       "| different_municipality_trips |\n",
       "+------------------------------+\n",
       "|            309748            |\n",
       "+------------------------------+"
      ]
     },
     "execution_count": 14,
     "metadata": {},
     "output_type": "execute_result"
    }
   ],
   "source": [
    "%%sql\n",
    "SELECT COUNT(*) as different_municipality_trips\n",
    "FROM trips t\n",
    "JOIN stations s1 ON t.start_station = s1.id\n",
    "JOIN stations s2 ON t.end_station = s2.id\n",
    "WHERE s1.municipality != s2.municipality"
   ]
  },
  {
   "cell_type": "markdown",
   "metadata": {
    "id": "VMIUioIk90T7"
   },
   "source": [
    "Q9. How many trips incurred additional fees (lasted longer than 30 minutes)?\n",
    "\n",
    "Hint: Use an Arithmetic function to calculate Duration in Minutes and Use in Where Clause"
   ]
  },
  {
   "cell_type": "code",
   "execution_count": 3,
   "metadata": {
    "id": "fdR9aX5290T8"
   },
   "outputs": [
    {
     "data": {
      "text/html": [
       "<span style=\"None\">Running query in &#x27;sqlite:///hubway.db&#x27;</span>"
      ],
      "text/plain": [
       "Running query in 'sqlite:///hubway.db'"
      ]
     },
     "metadata": {},
     "output_type": "display_data"
    },
    {
     "data": {
      "text/html": [
       "<table>\n",
       "    <thead>\n",
       "        <tr>\n",
       "            <th>trips_with_fees</th>\n",
       "        </tr>\n",
       "    </thead>\n",
       "    <tbody>\n",
       "        <tr>\n",
       "            <td>119917</td>\n",
       "        </tr>\n",
       "    </tbody>\n",
       "</table>"
      ],
      "text/plain": [
       "+-----------------+\n",
       "| trips_with_fees |\n",
       "+-----------------+\n",
       "|      119917     |\n",
       "+-----------------+"
      ]
     },
     "execution_count": 3,
     "metadata": {},
     "output_type": "execute_result"
    }
   ],
   "source": [
    "%%sql\n",
    "SELECT COUNT(*) as trips_with_fees\n",
    "FROM trips\n",
    "WHERE (duration/60 > 30)"
   ]
  },
  {
   "cell_type": "markdown",
   "metadata": {
    "id": "ksQvYCPY90T_"
   },
   "source": [
    "Q10. Which bike was used for the longest total time? Provide the answer in Hours\n",
    "\n",
    "Hint: Use an Group by Bike Number to sum Duration in Seconds and Limit Result to 1"
   ]
  },
  {
   "cell_type": "code",
   "execution_count": 21,
   "metadata": {
    "id": "od0_jInW90UA"
   },
   "outputs": [
    {
     "data": {
      "text/html": [
       "<span style=\"None\">Running query in &#x27;sqlite:///hubway.db&#x27;</span>"
      ],
      "text/plain": [
       "Running query in 'sqlite:///hubway.db'"
      ]
     },
     "metadata": {},
     "output_type": "display_data"
    },
    {
     "data": {
      "text/html": [
       "<table>\n",
       "    <thead>\n",
       "        <tr>\n",
       "            <th>bike_number</th>\n",
       "            <th>total_hours</th>\n",
       "        </tr>\n",
       "    </thead>\n",
       "    <tbody>\n",
       "        <tr>\n",
       "            <td>B00490</td>\n",
       "            <td>571.85</td>\n",
       "        </tr>\n",
       "    </tbody>\n",
       "</table>"
      ],
      "text/plain": [
       "+-------------+-------------+\n",
       "| bike_number | total_hours |\n",
       "+-------------+-------------+\n",
       "|    B00490   |    571.85   |\n",
       "+-------------+-------------+"
      ]
     },
     "execution_count": 21,
     "metadata": {},
     "output_type": "execute_result"
    }
   ],
   "source": [
    "%%sql\n",
    "SELECT bike_number,\n",
    "       ROUND(SUM(duration)/3600.0, 2) as total_hours\n",
    "FROM trips\n",
    "GROUP BY bike_number\n",
    "ORDER BY total_hours DESC\n",
    "LIMIT 1"
   ]
  },
  {
   "cell_type": "markdown",
   "metadata": {
    "id": "WoBja5Bi90UD"
   },
   "source": [
    "Q11. Did registered or casual users take more round trips?\n",
    "\n",
    "Hint: Recall Q7 and Modify your query to answer by Sub Type"
   ]
  },
  {
   "cell_type": "code",
   "execution_count": 22,
   "metadata": {
    "id": "hMmdNfE590UE"
   },
   "outputs": [
    {
     "data": {
      "text/html": [
       "<span style=\"None\">Running query in &#x27;sqlite:///hubway.db&#x27;</span>"
      ],
      "text/plain": [
       "Running query in 'sqlite:///hubway.db'"
      ]
     },
     "metadata": {},
     "output_type": "display_data"
    },
    {
     "data": {
      "text/html": [
       "<table>\n",
       "    <thead>\n",
       "        <tr>\n",
       "            <th>sub_type</th>\n",
       "            <th>round_trips</th>\n",
       "        </tr>\n",
       "    </thead>\n",
       "    <tbody>\n",
       "        <tr>\n",
       "            <td>Casual</td>\n",
       "            <td>41427</td>\n",
       "        </tr>\n",
       "        <tr>\n",
       "            <td>Registered</td>\n",
       "            <td>31635</td>\n",
       "        </tr>\n",
       "    </tbody>\n",
       "</table>"
      ],
      "text/plain": [
       "+------------+-------------+\n",
       "|  sub_type  | round_trips |\n",
       "+------------+-------------+\n",
       "|   Casual   |    41427    |\n",
       "| Registered |    31635    |\n",
       "+------------+-------------+"
      ]
     },
     "execution_count": 22,
     "metadata": {},
     "output_type": "execute_result"
    }
   ],
   "source": [
    "%%sql\n",
    "SELECT sub_type,\n",
    "       COUNT(*) as round_trips\n",
    "FROM trips\n",
    "WHERE start_station = end_station  -- Round trips have same start and end station\n",
    "GROUP BY sub_type\n",
    "ORDER BY round_trips DESC"
   ]
  },
  {
   "cell_type": "markdown",
   "metadata": {
    "id": "3HQvpScA90UG"
   },
   "source": [
    "Q12. Which municipality had the most frequent Station End?\n",
    "\n",
    "Hint: Join the Station table on End Station and then Group by Municipality to find answer"
   ]
  },
  {
   "cell_type": "code",
   "execution_count": 23,
   "metadata": {
    "id": "l3UJnvRV90UH"
   },
   "outputs": [
    {
     "data": {
      "text/html": [
       "<span style=\"None\">Running query in &#x27;sqlite:///hubway.db&#x27;</span>"
      ],
      "text/plain": [
       "Running query in 'sqlite:///hubway.db'"
      ]
     },
     "metadata": {},
     "output_type": "display_data"
    },
    {
     "data": {
      "text/html": [
       "<table>\n",
       "    <thead>\n",
       "        <tr>\n",
       "            <th>municipality</th>\n",
       "            <th>end_station_count</th>\n",
       "        </tr>\n",
       "    </thead>\n",
       "    <tbody>\n",
       "        <tr>\n",
       "            <td>Boston</td>\n",
       "            <td>1212364</td>\n",
       "        </tr>\n",
       "    </tbody>\n",
       "</table>"
      ],
      "text/plain": [
       "+--------------+-------------------+\n",
       "| municipality | end_station_count |\n",
       "+--------------+-------------------+\n",
       "|    Boston    |      1212364      |\n",
       "+--------------+-------------------+"
      ]
     },
     "execution_count": 23,
     "metadata": {},
     "output_type": "execute_result"
    }
   ],
   "source": [
    "%%sql\n",
    "SELECT s.municipality,\n",
    "       COUNT(*) as end_station_count\n",
    "FROM trips t\n",
    "JOIN stations s ON t.end_station = s.id \n",
    "GROUP BY s.municipality\n",
    "ORDER BY end_station_count DESC\n",
    "LIMIT 1"
   ]
  },
  {
   "cell_type": "markdown",
   "metadata": {
    "id": "dOhc8kihADoM"
   },
   "source": [
    "Q13. Which From and To Routes are Frequent with Regards to Municipalities?\n",
    "\n",
    "Hint: Get Start and End Municipalities and Group by Both Attributes for Count of Rides"
   ]
  },
  {
   "cell_type": "code",
   "execution_count": 24,
   "metadata": {
    "id": "zaw_-evaADoM"
   },
   "outputs": [
    {
     "data": {
      "text/html": [
       "<span style=\"None\">Running query in &#x27;sqlite:///hubway.db&#x27;</span>"
      ],
      "text/plain": [
       "Running query in 'sqlite:///hubway.db'"
      ]
     },
     "metadata": {},
     "output_type": "display_data"
    },
    {
     "data": {
      "text/html": [
       "<table>\n",
       "    <thead>\n",
       "        <tr>\n",
       "            <th>start_municipality</th>\n",
       "            <th>end_municipality</th>\n",
       "            <th>number_of_trips</th>\n",
       "        </tr>\n",
       "    </thead>\n",
       "    <tbody>\n",
       "        <tr>\n",
       "            <td>Boston</td>\n",
       "            <td>Boston</td>\n",
       "            <td>1081805</td>\n",
       "        </tr>\n",
       "        <tr>\n",
       "            <td>Cambridge</td>\n",
       "            <td>Cambridge</td>\n",
       "            <td>162538</td>\n",
       "        </tr>\n",
       "        <tr>\n",
       "            <td>Boston</td>\n",
       "            <td>Cambridge</td>\n",
       "            <td>110968</td>\n",
       "        </tr>\n",
       "        <tr>\n",
       "            <td>Cambridge</td>\n",
       "            <td>Boston</td>\n",
       "            <td>110078</td>\n",
       "        </tr>\n",
       "        <tr>\n",
       "            <td>Cambridge</td>\n",
       "            <td>Somerville</td>\n",
       "            <td>20998</td>\n",
       "        </tr>\n",
       "        <tr>\n",
       "            <td>Somerville</td>\n",
       "            <td>Cambridge</td>\n",
       "            <td>20765</td>\n",
       "        </tr>\n",
       "        <tr>\n",
       "            <td>Boston</td>\n",
       "            <td>Brookline</td>\n",
       "            <td>14838</td>\n",
       "        </tr>\n",
       "        <tr>\n",
       "            <td>Brookline</td>\n",
       "            <td>Boston</td>\n",
       "            <td>14573</td>\n",
       "        </tr>\n",
       "        <tr>\n",
       "            <td>Somerville</td>\n",
       "            <td>Somerville</td>\n",
       "            <td>12746</td>\n",
       "        </tr>\n",
       "        <tr>\n",
       "            <td>Boston</td>\n",
       "            <td>Somerville</td>\n",
       "            <td>6071</td>\n",
       "        </tr>\n",
       "    </tbody>\n",
       "</table>\n",
       "<span style=\"font-style:italic;text-align:center;\">Truncated to <a href=\"https://jupysql.ploomber.io/en/latest/api/configuration.html#displaylimit\">displaylimit</a> of 10.</span>"
      ],
      "text/plain": [
       "+--------------------+------------------+-----------------+\n",
       "| start_municipality | end_municipality | number_of_trips |\n",
       "+--------------------+------------------+-----------------+\n",
       "|       Boston       |      Boston      |     1081805     |\n",
       "|     Cambridge      |    Cambridge     |      162538     |\n",
       "|       Boston       |    Cambridge     |      110968     |\n",
       "|     Cambridge      |      Boston      |      110078     |\n",
       "|     Cambridge      |    Somerville    |      20998      |\n",
       "|     Somerville     |    Cambridge     |      20765      |\n",
       "|       Boston       |    Brookline     |      14838      |\n",
       "|     Brookline      |      Boston      |      14573      |\n",
       "|     Somerville     |    Somerville    |      12746      |\n",
       "|       Boston       |    Somerville    |       6071      |\n",
       "+--------------------+------------------+-----------------+\n",
       "Truncated to displaylimit of 10."
      ]
     },
     "execution_count": 24,
     "metadata": {},
     "output_type": "execute_result"
    }
   ],
   "source": [
    "%%sql\n",
    "SELECT \n",
    "    s1.municipality as start_municipality,\n",
    "    s2.municipality as end_municipality,\n",
    "    COUNT(*) as number_of_trips\n",
    "FROM trips t\n",
    "JOIN stations s1 ON t.start_station = s1.id\n",
    "JOIN stations s2 ON t.end_station = s2.id\n",
    "GROUP BY s1.municipality, s2.municipality\n",
    "ORDER BY number_of_trips DESC"
   ]
  },
  {
   "cell_type": "markdown",
   "metadata": {
    "id": "ehT4zCLRADoN"
   },
   "source": [
    "Q14. Which Age Band in \"Registered Users\" has the most Rides? Calculate Age Bands based on interval of 10 and Cut Off by 70 or Above\n",
    "\n",
    "Hint: Use Case When to Create Range of Value Bands as per Above Criteria then Group By. Use DoB Years to Calculate Age First (https://youtu.be/G46GIIRbO-g?t=76)"
   ]
  },
  {
   "cell_type": "code",
   "execution_count": 25,
   "metadata": {
    "id": "AmbR10VsADoN"
   },
   "outputs": [
    {
     "data": {
      "text/html": [
       "<span style=\"None\">Running query in &#x27;sqlite:///hubway.db&#x27;</span>"
      ],
      "text/plain": [
       "Running query in 'sqlite:///hubway.db'"
      ]
     },
     "metadata": {},
     "output_type": "display_data"
    },
    {
     "data": {
      "text/html": [
       "<table>\n",
       "    <thead>\n",
       "        <tr>\n",
       "            <th>age_band</th>\n",
       "            <th>number_of_rides</th>\n",
       "        </tr>\n",
       "    </thead>\n",
       "    <tbody>\n",
       "        <tr>\n",
       "            <td>30-39</td>\n",
       "            <td>137171</td>\n",
       "        </tr>\n",
       "        <tr>\n",
       "            <td>20-29</td>\n",
       "            <td>77557</td>\n",
       "        </tr>\n",
       "        <tr>\n",
       "            <td>40-49</td>\n",
       "            <td>68692</td>\n",
       "        </tr>\n",
       "        <tr>\n",
       "            <td>50-59</td>\n",
       "            <td>47590</td>\n",
       "        </tr>\n",
       "        <tr>\n",
       "            <td>60-69</td>\n",
       "            <td>17801</td>\n",
       "        </tr>\n",
       "        <tr>\n",
       "            <td>70 or Above</td>\n",
       "            <td>1205</td>\n",
       "        </tr>\n",
       "    </tbody>\n",
       "</table>"
      ],
      "text/plain": [
       "+-------------+-----------------+\n",
       "|   age_band  | number_of_rides |\n",
       "+-------------+-----------------+\n",
       "|    30-39    |      137171     |\n",
       "|    20-29    |      77557      |\n",
       "|    40-49    |      68692      |\n",
       "|    50-59    |      47590      |\n",
       "|    60-69    |      17801      |\n",
       "| 70 or Above |       1205      |\n",
       "+-------------+-----------------+"
      ]
     },
     "execution_count": 25,
     "metadata": {},
     "output_type": "execute_result"
    }
   ],
   "source": [
    "%%sql\n",
    "SELECT \n",
    "    CASE \n",
    "        WHEN (2015 - birth_date) >= 70 THEN '70 or Above'\n",
    "        WHEN (2015 - birth_date) >= 60 THEN '60-69'\n",
    "        WHEN (2015 - birth_date) >= 50 THEN '50-59'\n",
    "        WHEN (2015 - birth_date) >= 40 THEN '40-49'\n",
    "        WHEN (2015 - birth_date) >= 30 THEN '30-39'\n",
    "        WHEN (2015 - birth_date) >= 20 THEN '20-29'\n",
    "        ELSE 'Under 20'\n",
    "    END as age_band,\n",
    "    COUNT(*) as number_of_rides\n",
    "FROM trips\n",
    "WHERE sub_type = 'Registered'\n",
    "    AND birth_date IS NOT NULL\n",
    "GROUP BY age_band\n",
    "ORDER BY number_of_rides DESC"
   ]
  },
  {
   "cell_type": "markdown",
   "metadata": {
    "id": "xxhjDL_CADoN"
   },
   "source": [
    "# Analyzing Hubway Trips in Python"
   ]
  },
  {
   "cell_type": "code",
   "execution_count": 1,
   "metadata": {},
   "outputs": [
    {
     "name": "stdout",
     "output_type": "stream",
     "text": [
      "1570001\n",
      "142\n",
      "1570001\n",
      "142\n"
     ]
    }
   ],
   "source": [
    "# MANDATORY CELL TO EXECUTE FIRST SO WE HAVE DATA IN THE RIGHT TYPE\n",
    "\n",
    "import sqlite3\n",
    "\n",
    "import pandas as pd, numpy as np\n",
    "\n",
    "cnx = sqlite3.connect('hubway.db')\n",
    "\n",
    "cnx.cursor().executescript(\"\"\"\n",
    "\n",
    "UPDATE trips SET duration       = NULL WHERE duration IS '';\n",
    "UPDATE trips SET start_date     = NULL WHERE start_date IS '';\n",
    "UPDATE trips SET start_station  = NULL WHERE start_station IS '';\n",
    "UPDATE trips SET end_date       = NULL WHERE end_date IS '';\n",
    "UPDATE trips SET end_station    = NULL WHERE end_station IS '';\n",
    "UPDATE trips SET sub_type       = NULL WHERE sub_type IS '';\n",
    "UPDATE trips SET zip_code       = NULL WHERE zip_code IS '';\n",
    "UPDATE trips SET birth_date     = NULL WHERE birth_date IS '';\n",
    "UPDATE trips SET gender         = NULL WHERE gender IS '';\n",
    "\n",
    "\"\"\")\n",
    "\n",
    "trips=pd.read_sql_query(\"SELECT * FROM trips\", cnx)\n",
    "stations=pd.read_sql_query(\"SELECT * FROM stations\", cnx)\n",
    "\n",
    "print(len(trips))\n",
    "print(len(stations))\n",
    "\n",
    "trips=trips\\\n",
    "    .replace(r'^\\s*$', np.nan, regex=True)\\\n",
    "    .astype({\\\n",
    "            'start_date':'datetime64[ns]'\\\n",
    "            ,'end_date':'datetime64[ns]'\\\n",
    "            ,'start_station':pd.Int64Dtype()\\\n",
    "            ,'end_station':pd.Int64Dtype()\\\n",
    "            ,'birth_date':pd.Int64Dtype()\\\n",
    "            })\n",
    "\n",
    "stations=stations\\\n",
    "    .replace(r'^\\s*$', np.nan, regex=True)\\\n",
    "    .astype({\\\n",
    "            'lat':'float64'\\\n",
    "            ,'lng':'float64'\\\n",
    "            })\n",
    "\n",
    "print(len(trips))\n",
    "print(len(stations))\n",
    "\n",
    "cnx.close()"
   ]
  },
  {
   "cell_type": "code",
   "execution_count": 60,
   "metadata": {
    "colab": {
     "base_uri": "https://localhost:8080/"
    },
    "executionInfo": {
     "elapsed": 21459,
     "status": "ok",
     "timestamp": 1713247841006,
     "user": {
      "displayName": "Mesum Raza Hemani",
      "userId": "02137032281712867702"
     },
     "user_tz": -300
    },
    "id": "gr4kJZRiADoN",
    "outputId": "c8b9f6f4-7d66-47ce-9e08-ed7a34e4b9e3"
   },
   "outputs": [
    {
     "name": "stdout",
     "output_type": "stream",
     "text": [
      "Collecting pysqlite3\n",
      "  Downloading pysqlite3-0.5.4.tar.gz (40 kB)\n",
      "  Installing build dependencies: started\n",
      "  Installing build dependencies: finished with status 'done'\n",
      "  Getting requirements to build wheel: started\n",
      "  Getting requirements to build wheel: finished with status 'done'\n",
      "  Preparing metadata (pyproject.toml): started\n",
      "  Preparing metadata (pyproject.toml): finished with status 'done'\n",
      "Building wheels for collected packages: pysqlite3\n",
      "  Building wheel for pysqlite3 (pyproject.toml): started\n",
      "  Building wheel for pysqlite3 (pyproject.toml): finished with status 'error'\n",
      "Failed to build pysqlite3\n"
     ]
    },
    {
     "name": "stderr",
     "output_type": "stream",
     "text": [
      "  error: subprocess-exited-with-error\n",
      "  \n",
      "  × Building wheel for pysqlite3 (pyproject.toml) did not run successfully.\n",
      "  │ exit code: 1\n",
      "  ╰─> [10 lines of output]\n",
      "      running bdist_wheel\n",
      "      running build\n",
      "      running build_py\n",
      "      creating build\\lib.win-amd64-cpython-313\\pysqlite3\n",
      "      copying pysqlite3\\dbapi2.py -> build\\lib.win-amd64-cpython-313\\pysqlite3\n",
      "      copying pysqlite3\\__init__.py -> build\\lib.win-amd64-cpython-313\\pysqlite3\n",
      "      running build_ext\n",
      "      Builds a C extension linking against libsqlite3 library\n",
      "      building 'pysqlite3._sqlite3' extension\n",
      "      error: Microsoft Visual C++ 14.0 or greater is required. Get it with \"Microsoft C++ Build Tools\": https://visualstudio.microsoft.com/visual-cpp-build-tools/\n",
      "      [end of output]\n",
      "  \n",
      "  note: This error originates from a subprocess, and is likely not a problem with pip.\n",
      "  ERROR: Failed building wheel for pysqlite3\n",
      "\n",
      "[notice] A new release of pip is available: 24.3.1 -> 25.0.1\n",
      "[notice] To update, run: python.exe -m pip install --upgrade pip\n",
      "ERROR: ERROR: Failed to build installable wheels for some pyproject.toml based projects (pysqlite3)\n"
     ]
    }
   ],
   "source": [
    "# ONLY RUN IF YOU HAVE ERROR IN ABOVE CELL (LIKE CANNOT FIND SQLLITE3)\n",
    "\n",
    "#You will have to install SQLLite Connector using the following command:\n",
    "\n",
    "!pip install pysqlite3\n",
    "\n",
    "#Just Execute the cell and it will install\n",
    "\n",
    "#THEN USE import pysqlite3 as sqlite3 in the import as replacement"
   ]
  },
  {
   "cell_type": "code",
   "execution_count": 2,
   "metadata": {
    "colab": {
     "base_uri": "https://localhost:8080/"
    },
    "executionInfo": {
     "elapsed": 398,
     "status": "ok",
     "timestamp": 1725720796665,
     "user": {
      "displayName": "Mesum Raza Hemani",
      "userId": "02137032281712867702"
     },
     "user_tz": -300
    },
    "id": "0vOowduvADoN",
    "outputId": "007757be-68ef-4eee-93e3-6a5b88e1acdd"
   },
   "outputs": [
    {
     "name": "stdout",
     "output_type": "stream",
     "text": [
      "   id  duration          start_date  start_station            end_date  \\\n",
      "0   1         9 2011-07-28 10:12:00             23 2011-07-28 10:12:00   \n",
      "1   2       220 2011-07-28 10:21:00             23 2011-07-28 10:25:00   \n",
      "2   3        56 2011-07-28 10:33:00             23 2011-07-28 10:34:00   \n",
      "3   4        64 2011-07-28 10:35:00             23 2011-07-28 10:36:00   \n",
      "4   5        12 2011-07-28 10:37:00             23 2011-07-28 10:37:00   \n",
      "\n",
      "   end_station bike_number    sub_type zip_code  birth_date  gender  \n",
      "0           23      B00468  Registered   '97217        1976    Male  \n",
      "1           23      B00554  Registered   '02215        1966    Male  \n",
      "2           23      B00456  Registered   '02108        1943    Male  \n",
      "3           23      B00554  Registered   '02116        1981  Female  \n",
      "4           23      B00554  Registered   '97214        1983  Female  \n",
      "\n",
      " ------- \n",
      "\n",
      "   id                             station municipality        lat        lng\n",
      "0   3              Colleges of the Fenway       Boston  42.340021 -71.100812\n",
      "1   4         Tremont St. at Berkeley St.       Boston  42.345392 -71.069616\n",
      "2   5  Northeastern U / North Parking Lot       Boston  42.341814 -71.090179\n",
      "3   6            Cambridge St. at Joy St.       Boston  42.361285 -71.065140\n",
      "4   7                            Fan Pier       Boston  42.353412 -71.044624\n"
     ]
    }
   ],
   "source": [
    "# CHECKING IF THE DATA IS LOAD INTO RIGHT TABLES IN PYTHON DF\n",
    "\n",
    "print(trips.head(5))\n",
    "\n",
    "print('\\n ------- \\n')\n",
    "\n",
    "print(stations.head(5))"
   ]
  },
  {
   "cell_type": "code",
   "execution_count": 3,
   "metadata": {
    "colab": {
     "base_uri": "https://localhost:8080/",
     "height": 81
    },
    "executionInfo": {
     "elapsed": 389,
     "status": "ok",
     "timestamp": 1725720922567,
     "user": {
      "displayName": "Mesum Raza Hemani",
      "userId": "02137032281712867702"
     },
     "user_tz": -300
    },
    "id": "rbDIWWVUADoN",
    "outputId": "1ed05a64-1fe5-4e0c-de95-aaebe5ed9c42"
   },
   "outputs": [
    {
     "data": {
      "text/html": [
       "<div>\n",
       "<style scoped>\n",
       "    .dataframe tbody tr th:only-of-type {\n",
       "        vertical-align: middle;\n",
       "    }\n",
       "\n",
       "    .dataframe tbody tr th {\n",
       "        vertical-align: top;\n",
       "    }\n",
       "\n",
       "    .dataframe thead th {\n",
       "        text-align: right;\n",
       "    }\n",
       "</style>\n",
       "<table border=\"1\" class=\"dataframe\">\n",
       "  <thead>\n",
       "    <tr style=\"text-align: right;\">\n",
       "      <th></th>\n",
       "      <th>mean</th>\n",
       "      <th>min</th>\n",
       "      <th>max</th>\n",
       "    </tr>\n",
       "  </thead>\n",
       "  <tbody>\n",
       "    <tr>\n",
       "      <th>duration</th>\n",
       "      <td>912.409682</td>\n",
       "      <td>0.0</td>\n",
       "      <td>9999.0</td>\n",
       "    </tr>\n",
       "  </tbody>\n",
       "</table>\n",
       "</div>"
      ],
      "text/plain": [
       "                mean  min     max\n",
       "duration  912.409682  0.0  9999.0"
      ]
     },
     "execution_count": 3,
     "metadata": {},
     "output_type": "execute_result"
    }
   ],
   "source": [
    "# EXAMPLE SOLUTION, REMEMBER YOUR ANSWER SHOULD BE PRECISE AND ON POINT (SORTED AND IN RIGHT FORMAT)\n",
    "\n",
    "##PYTHON SOLUTION\n",
    "\n",
    "trips.agg({'duration': ['mean', 'min', 'max']}).T"
   ]
  },
  {
   "cell_type": "code",
   "execution_count": 4,
   "metadata": {
    "id": "Q-sS7oEpADoO"
   },
   "outputs": [
    {
     "name": "stdout",
     "output_type": "stream",
     "text": [
      "Number of trips by registered users: 1,105,192\n"
     ]
    }
   ],
   "source": [
    "## SOLUTION TO QUESTION 2\n",
    "\n",
    "# Alternative method using value_counts()\n",
    "registered_count = trips['sub_type'].value_counts()['Registered']\n",
    "print(f\"Number of trips by registered users: {registered_count:,}\")"
   ]
  },
  {
   "cell_type": "code",
   "execution_count": 5,
   "metadata": {
    "id": "_jz_-LU7ADoO"
   },
   "outputs": [
    {
     "name": "stdout",
     "output_type": "stream",
     "text": [
      "Number of trips by gender (registered users only):\n",
      "gender\n",
      "Male      833858\n",
      "Female    271333\n",
      "Name: count, dtype: int64\n"
     ]
    }
   ],
   "source": [
    "## SOLUTION TO QUESTION 3\n",
    "\n",
    "# Filter for registered users and count trips by gender\n",
    "gender_counts = trips[\n",
    "    (trips['sub_type'] == 'Registered') &  # Only registered users\n",
    "    (trips['gender'].isin(['Male', 'Female']))  # Only Male/Female values\n",
    "]['gender'].value_counts()\n",
    "\n",
    "print(\"Number of trips by gender (registered users only):\")\n",
    "print(gender_counts)\n"
   ]
  },
  {
   "cell_type": "code",
   "execution_count": 6,
   "metadata": {
    "id": "A-JkaJ08ADoO"
   },
   "outputs": [
    {
     "name": "stdout",
     "output_type": "stream",
     "text": [
      "Trip Analysis by User Type:\n",
      "            number_of_trips  avg_duration_seconds\n",
      "sub_type                                         \n",
      "Casual               464809               1519.64\n",
      "Registered          1105192                657.03\n"
     ]
    }
   ],
   "source": [
    "## SOLUTION TO QUESTION 4\n",
    "# Group by sub_type and calculate count and average duration\n",
    "trip_analysis = trips.groupby('sub_type').agg({\n",
    "    'duration': ['count', 'mean']\n",
    "}).round(2)\n",
    "\n",
    "# Rename columns for clarity\n",
    "trip_analysis.columns = ['number_of_trips', 'avg_duration_seconds']\n",
    "\n",
    "print(\"Trip Analysis by User Type:\")\n",
    "print(trip_analysis)\n"
   ]
  },
  {
   "cell_type": "code",
   "execution_count": 7,
   "metadata": {
    "id": "pgcQ1rPZADoO"
   },
   "outputs": [
    {
     "name": "stdout",
     "output_type": "stream",
     "text": [
      "Top bike usage:\n",
      "bike_number\n",
      "B00490    2120\n",
      "Name: count, dtype: int64\n"
     ]
    }
   ],
   "source": [
    "## SOLUTION TO QUESTION 5\n",
    "\n",
    "print(\"Top bike usage:\")\n",
    "print(trips['bike_number'].value_counts().nlargest(1))"
   ]
  },
  {
   "cell_type": "code",
   "execution_count": 8,
   "metadata": {
    "id": "qssXWctPADoO"
   },
   "outputs": [
    {
     "name": "stdout",
     "output_type": "stream",
     "text": [
      "Average duration for users over 30: 661.50 seconds\n"
     ]
    }
   ],
   "source": [
    "## SOLUTION TO QUESTION 6\n",
    "\n",
    "# Calculate average duration for users over 30\n",
    "avg_duration = trips[\n",
    "    (trips['sub_type'] == 'Registered') &\n",
    "    (trips['birth_date'].notna()) &\n",
    "    ((2015 - trips['birth_date']) > 30)\n",
    "]['duration'].mean()\n",
    "\n",
    "print(f\"Average duration for users over 30: {avg_duration:.2f} seconds\")"
   ]
  },
  {
   "cell_type": "code",
   "execution_count": null,
   "metadata": {
    "id": "5zMTL2SAADoO"
   },
   "outputs": [
    {
     "name": "stdout",
     "output_type": "stream",
     "text": [
      "\n",
      "Top 5 stations for round trips:\n",
      "The Esplanade - Beacon St. at Arlington St.: 3064\n",
      "Boston Public Library - 700 Boylston St.: 2548\n",
      "Boylston St. at Arlington St.: 2163\n",
      "Beacon St / Mass Ave: 2144\n",
      "Newbury St / Hereford St: 1636\n"
     ]
    }
   ],
   "source": [
    "## SOLUTION TO QUESTION 7\n",
    "\n",
    "round_trips = (\n",
    "    # Join trips with stations\n",
    "    trips.merge(\n",
    "        stations[['id', 'station']],\n",
    "        left_on='start_station',\n",
    "        right_on='id',\n",
    "        how='inner'\n",
    "    )\n",
    "    # Filter for round trips\n",
    "    .query('start_station == end_station')\n",
    "    # Group by start_station ID (not station name)\n",
    "    .groupby('start_station')\n",
    "    .size()\n",
    "    # Sort and get top 5\n",
    "    .sort_values(ascending=False)\n",
    "    .head(5)\n",
    "    # Get the station names\n",
    "    .reset_index()\n",
    "    .merge(stations[['id', 'station']], left_on='start_station', right_on='id')\n",
    ")\n",
    "\n",
    "print(\"\\nTop 5 stations for round trips:\")\n",
    "for _, row in round_trips.iterrows():\n",
    "    print(f\"{row['station']}: {row[0]}\")"
   ]
  },
  {
   "cell_type": "code",
   "execution_count": null,
   "metadata": {
    "id": "3u4Ej24CADoO"
   },
   "outputs": [
    {
     "name": "stdout",
     "output_type": "stream",
     "text": [
      "Number of trips between different municipalities: 309,748\n"
     ]
    }
   ],
   "source": [
    "## SOLUTION TO QUESTION 8\n",
    "\n",
    "# Count trips between different municipalities\n",
    "different_municipality_trips = (\n",
    "    # Join with stations table for start municipality\n",
    "    trips.merge(\n",
    "        stations[['id', 'municipality']],\n",
    "        left_on='start_station',\n",
    "        right_on='id',\n",
    "        how='inner'\n",
    "    )\n",
    "    # Join with stations table again for end municipality\n",
    "    .merge(\n",
    "        stations[['id', 'municipality']],\n",
    "        left_on='end_station',\n",
    "        right_on='id',\n",
    "        how='inner',\n",
    "        suffixes=('_start', '_end') \n",
    "    )\n",
    "    # Filter for different municipalities\n",
    "    .query('municipality_start != municipality_end')\n",
    "    .shape[0]  # Count rows\n",
    ")\n",
    "\n",
    "print(f\"Number of trips between different municipalities: {different_municipality_trips:,}\")"
   ]
  },
  {
   "cell_type": "code",
   "execution_count": 11,
   "metadata": {
    "id": "qdX-MbjNADoO"
   },
   "outputs": [
    {
     "name": "stdout",
     "output_type": "stream",
     "text": [
      "trips_with_fees\n",
      "119917\n"
     ]
    }
   ],
   "source": [
    "## SOLUTION TO QUESTION 9\n",
    "\n",
    "# Count trips with additional fees using the same logic as SQL\n",
    "trips_with_fees = trips[trips['duration'] // 60 > 30]  # 30 minutes in minutes\n",
    "trips = len(trips_with_fees)\n",
    "print(f\"trips_with_fees\\n{trips}\")"
   ]
  },
  {
   "cell_type": "code",
   "execution_count": 14,
   "metadata": {
    "id": "-a-LcD3NADoO"
   },
   "outputs": [
    {
     "name": "stdout",
     "output_type": "stream",
     "text": [
      "Bike used for the longest total time: B00490\n",
      "Total hours: 571.85\n"
     ]
    }
   ],
   "source": [
    "## SOLUTION TO QUESTION 10\n",
    "\n",
    "# Ensure trips is a DataFrame\n",
    "import pandas as pd\n",
    "import sqlite3\n",
    "\n",
    "# Connect to the database\n",
    "cnx = sqlite3.connect('hubway.db')\n",
    "\n",
    "# Load the trips data into a DataFrame\n",
    "trips = pd.read_sql_query(\"SELECT * FROM trips\", cnx)\n",
    "\n",
    "# Close the connection\n",
    "cnx.close()\n",
    "\n",
    "# Calculate total duration for each bike and convert to hours\n",
    "longest_bike_usage = (\n",
    "    trips.groupby('bike_number')\n",
    "    .agg(total_duration=('duration', 'sum'))  # Sum duration for each bike\n",
    "    .reset_index()\n",
    "    .sort_values(by='total_duration', ascending=False)\n",
    "    .head(1)  # Get the bike with the longest total duration\n",
    ")\n",
    "\n",
    "# Convert total duration from seconds to hours\n",
    "longest_bike_usage['total_hours'] = longest_bike_usage['total_duration'] / 3600.0\n",
    "\n",
    "# Print the result\n",
    "print(f\"Bike used for the longest total time: {longest_bike_usage['bike_number'].values[0]}\")\n",
    "print(f\"Total hours: {longest_bike_usage['total_hours'].values[0]:.2f}\")"
   ]
  },
  {
   "cell_type": "code",
   "execution_count": 13,
   "metadata": {
    "id": "CJdmMWsRADoO"
   },
   "outputs": [
    {
     "name": "stdout",
     "output_type": "stream",
     "text": [
      "\n",
      "Round trips by user type:\n",
      "sub_type\n",
      "Casual        41427\n",
      "Registered    31635\n",
      "dtype: int64\n"
     ]
    }
   ],
   "source": [
    "## SOLUTION TO QUESTION 11\n",
    "\n",
    "# Count round trips by user type (sub_type)\n",
    "round_trips_by_type = (\n",
    "    trips[trips['start_station'] == trips['end_station']]  # Filter for round trips\n",
    "    .groupby('sub_type')  # Group by user type\n",
    "    .size()  # Count the number of round trips\n",
    ")\n",
    "\n",
    "# Print the results\n",
    "print(\"\\nRound trips by user type:\")\n",
    "print(round_trips_by_type)"
   ]
  },
  {
   "cell_type": "code",
   "execution_count": 14,
   "metadata": {
    "id": "o2ImNrM2ADoO"
   },
   "outputs": [
    {
     "name": "stdout",
     "output_type": "stream",
     "text": [
      "Municipality with the most frequent station end: Boston\n",
      "Number of trips: 1212364\n"
     ]
    }
   ],
   "source": [
    "## SOLUTION TO QUESTION 12\n",
    "\n",
    "# Count the number of trips ending in each municipality\n",
    "end_station_counts = (\n",
    "    trips.merge(\n",
    "        stations[['id', 'municipality']],\n",
    "        left_on='end_station',\n",
    "        right_on='id',\n",
    "        how='inner'\n",
    "    )\n",
    "    .groupby('municipality')\n",
    "    .size()  # Count the number of trips for each municipality\n",
    "    .reset_index(name='end_station_count')  # Reset index and name the count column\n",
    "    .sort_values(by='end_station_count', ascending=False)  # Sort by count\n",
    "    .head(1)  # Get the municipality with the most trips\n",
    ")\n",
    "\n",
    "# Print the result\n",
    "print(f\"Municipality with the most frequent station end: {end_station_counts['municipality'].values[0]}\")\n",
    "print(f\"Number of trips: {end_station_counts['end_station_count'].values[0]}\")"
   ]
  },
  {
   "cell_type": "code",
   "execution_count": 15,
   "metadata": {
    "id": "tmSZ9CBhADoP"
   },
   "outputs": [
    {
     "name": "stdout",
     "output_type": "stream",
     "text": [
      "\n",
      "Top routes by municipality:\n",
      "   municipality_start municipality_end  number_of_trips\n",
      "0              Boston           Boston          1081805\n",
      "10          Cambridge        Cambridge           162538\n",
      "2              Boston        Cambridge           110968\n",
      "8           Cambridge           Boston           110078\n",
      "11          Cambridge       Somerville            20998\n",
      "14         Somerville        Cambridge            20765\n",
      "1              Boston        Brookline            14838\n",
      "4           Brookline           Boston            14573\n",
      "15         Somerville       Somerville            12746\n",
      "3              Boston       Somerville             6071\n"
     ]
    }
   ],
   "source": [
    "## SOLUTION TO QUESTION 13\n",
    "\n",
    "# Get start and end municipalities and count the number of trips\n",
    "frequent_routes = (\n",
    "    trips.merge(stations[['id', 'municipality']], left_on='start_station', right_on='id', how='inner')\n",
    "    .merge(stations[['id', 'municipality']], left_on='end_station', right_on='id', how='inner', suffixes=('_start', '_end'))\n",
    "    .groupby(['municipality_start', 'municipality_end'])\n",
    "    .size()  # Count the number of trips for each route\n",
    "    .reset_index(name='number_of_trips')  # Reset index and name the count column\n",
    "    .sort_values(by='number_of_trips', ascending=False)  # Sort by trip count\n",
    ")\n",
    "\n",
    "# Print the top routes\n",
    "print(\"\\nTop routes by municipality:\")\n",
    "print(frequent_routes.head(10))  # Display the top 10 routes"
   ]
  },
  {
   "cell_type": "code",
   "execution_count": 16,
   "metadata": {
    "id": "OSkkpkDcADoP"
   },
   "outputs": [
    {
     "name": "stdout",
     "output_type": "stream",
     "text": [
      "\n",
      "Age band with the most rides:\n",
      "  age_band  number_of_rides\n",
      "2    30-39           137171\n",
      "1    20-29            77557\n",
      "3    40-49            68692\n",
      "4    50-59            47590\n",
      "5    60-69            17801\n"
     ]
    },
    {
     "name": "stderr",
     "output_type": "stream",
     "text": [
      "C:\\Users\\Cyber Land 1\\AppData\\Local\\Temp\\ipykernel_2724\\3167529850.py:14: FutureWarning: The default of observed=False is deprecated and will be changed to True in a future version of pandas. Pass observed=False to retain current behavior or observed=True to adopt the future default and silence this warning.\n",
      "  .groupby('age_band')\n"
     ]
    }
   ],
   "source": [
    "## SOLUTION TO QUESTION 14 (MINI CHALLENGE)\n",
    "\n",
    "#HELP HINT: https://stackoverflow.com/questions/34165876/trying-to-create-grouped-variable-in-python\n",
    "\n",
    "# Create age bands based on the birth_date\n",
    "age_bands = (\n",
    "    trips[trips['sub_type'] == 'Registered']  # Filter for registered users\n",
    "    .assign(age=lambda x: 2015 - x['birth_date'])  # Calculate age\n",
    "    .dropna(subset=['age'])  # Drop rows with NaN ages\n",
    "    .assign(age_band=lambda x: pd.cut(x['age'], \n",
    "                                        bins=[0, 20, 30, 40, 50, 60, 70, 100], \n",
    "                                        labels=['Under 20', '20-29', '30-39', '40-49', '50-59', '60-69', '70 or Above'], \n",
    "                                        right=False))  # Create age bands\n",
    "    .groupby('age_band')\n",
    "    .size()  # Count the number of rides in each age band\n",
    "    .reset_index(name='number_of_rides')  # Reset index and name the count column\n",
    "    .sort_values(by='number_of_rides', ascending=False)  # Sort by number of rides\n",
    ")\n",
    "\n",
    "# Print the result\n",
    "print(\"\\nAge band with the most rides:\")\n",
    "print(age_bands.head(5))  # Display the age band with the most rides"
   ]
  },
  {
   "cell_type": "markdown",
   "metadata": {
    "id": "oYGpjiw8ADoP"
   },
   "source": [
    "### BONUS PYTHON QUESTION (10 Marks)\n",
    "\n",
    "##### Can you show a Report in Python \"What are the Top 5 States with Most Number of Rides\" For Registered Users Only\n",
    "\n",
    "##### Hints :\n",
    "\n",
    "1. Use the Sampled Dataframe for your working, else it would take a lot of time to convert many rows in Original table.\n",
    "\n",
    "2. You will need Data Type Conversion and Cleaning of Zip Code (Don't fear errors / Learn from them)\n",
    "\n",
    "3. Where do you get the States? READ THE CELL BELOW\n",
    "\n",
    "!pip install zipcodes\n",
    "\n",
    "print('\\n')\n",
    "\n",
    "import zipcodes\n",
    "\n",
    "##### Gets All the Information Available against ZipCode\n",
    "\n",
    "print(zipcodes.matching('77429')[0].keys())\n",
    "\n",
    "['zip_code', 'zip_code_type', 'active', 'city', 'acceptable_cities', 'unacceptable_cities', 'state', 'county', 'timezone', 'area_codes', 'world_region', 'country', 'lat', 'long']\n",
    "\n",
    "##### Sample Working how to Fetch a Against a ZipCode\n",
    "\n",
    "zipcodes.matching('77429')[0].get('state')\n",
    "\n",
    "READ MORE > https://github.com/seanpianka/Zipcodes\n"
   ]
  },
  {
   "cell_type": "code",
   "execution_count": 17,
   "metadata": {
    "id": "sSPIRkL8ADoP"
   },
   "outputs": [
    {
     "name": "stderr",
     "output_type": "stream",
     "text": [
      "C:\\Users\\Cyber Land 1\\AppData\\Local\\Temp\\ipykernel_2724\\442081643.py:3: DeprecationWarning: DataFrameGroupBy.apply operated on the grouping columns. This behavior is deprecated, and in a future version of pandas the grouping columns will be excluded from the operation. Either pass `include_groups=False` to exclude the groupings or explicitly select the grouping columns after groupby to silence this warning.\n",
      "  registered_trips_sampled=trips.query(\"sub_type=='Registered'\").groupby('zip_code').apply(lambda x: x.sample(10, replace=True)).reset_index(drop = True)\n"
     ]
    }
   ],
   "source": [
    "#EXECUTE THIS CELL TO CREATE SAMPLED DATAFRAME\n",
    "\n",
    "registered_trips_sampled=trips.query(\"sub_type=='Registered'\").groupby('zip_code').apply(lambda x: x.sample(10, replace=True)).reset_index(drop = True)"
   ]
  },
  {
   "cell_type": "code",
   "execution_count": 18,
   "metadata": {
    "id": "S-F7MA76ADoP",
    "outputId": "8d1a68c1-b151-4543-f3fe-a83cb088e12e"
   },
   "outputs": [],
   "source": [
    "## YOUR REPORT SOLUTION IN PYTHON\n",
    "\n",
    "# USE registered_trips_sampled Dataframe and temporarily work on column zip_code by storing in variable 'x'\n",
    "\n",
    "x=registered_trips_sampled['zip_code']\n",
    "\n",
    "# CLEAN zip_code COLUMN FROM PUNCTUATIONS\n",
    "\n",
    "\n",
    "# REPLACE NAN VALUES WITH STRING '0' FOR API TO WORK\n",
    "\n",
    "\n",
    "# TRY TO USE LAMBDA FUNCTION IN PYTHON TO GET STATE FOR EACH ROW, ONCE YOUR ARE DONE WITH ABOVE STEPS\n",
    "\n",
    "\n",
    "# SAVE THE OUTPUT INTO A COLUMN NAMED AS registered_trips_sampled['state']\n",
    "\n",
    "registered_trips_sampled['state']=x"
   ]
  },
  {
   "cell_type": "code",
   "execution_count": 17,
   "metadata": {
    "id": "vFr0WvnhADoP"
   },
   "outputs": [],
   "source": [
    "# WE WILL USE THIS DICTIONARY TO MAP STATE NAMES INSTEAD OF ABBREVIATIONS\n",
    "\n",
    "state_names = {\n",
    "        'AK': 'Alaska',\n",
    "        'AL': 'Alabama',\n",
    "        'AR': 'Arkansas',\n",
    "        'AS': 'American Samoa',\n",
    "        'AZ': 'Arizona',\n",
    "        'CA': 'California',\n",
    "        'CO': 'Colorado',\n",
    "        'CT': 'Connecticut',\n",
    "        'DC': 'District of Columbia',\n",
    "        'DE': 'Delaware',\n",
    "        'FL': 'Florida',\n",
    "        'GA': 'Georgia',\n",
    "        'GU': 'Guam',\n",
    "        'HI': 'Hawaii',\n",
    "        'IA': 'Iowa',\n",
    "        'ID': 'Idaho',\n",
    "        'IL': 'Illinois',\n",
    "        'IN': 'Indiana',\n",
    "        'KS': 'Kansas',\n",
    "        'KY': 'Kentucky',\n",
    "        'LA': 'Louisiana',\n",
    "        'MA': 'Massachusetts',\n",
    "        'MD': 'Maryland',\n",
    "        'ME': 'Maine',\n",
    "        'MI': 'Michigan',\n",
    "        'MN': 'Minnesota',\n",
    "        'MO': 'Missouri',\n",
    "        'MP': 'Northern Mariana Islands',\n",
    "        'MS': 'Mississippi',\n",
    "        'MT': 'Montana',\n",
    "        'NA': 'National',\n",
    "        'NC': 'North Carolina',\n",
    "        'ND': 'North Dakota',\n",
    "        'NE': 'Nebraska',\n",
    "        'NH': 'New Hampshire',\n",
    "        'NJ': 'New Jersey',\n",
    "        'NM': 'New Mexico',\n",
    "        'NV': 'Nevada',\n",
    "        'NY': 'New York',\n",
    "        'OH': 'Ohio',\n",
    "        'OK': 'Oklahoma',\n",
    "        'OR': 'Oregon',\n",
    "        'PA': 'Pennsylvania',\n",
    "        'PR': 'Puerto Rico',\n",
    "        'RI': 'Rhode Island',\n",
    "        'SC': 'South Carolina',\n",
    "        'SD': 'South Dakota',\n",
    "        'TN': 'Tennessee',\n",
    "        'TX': 'Texas',\n",
    "        'UT': 'Utah',\n",
    "        'VA': 'Virginia',\n",
    "        'VI': 'Virgin Islands',\n",
    "        'VT': 'Vermont',\n",
    "        'WA': 'Washington',\n",
    "        'WI': 'Wisconsin',\n",
    "        'WV': 'West Virginia',\n",
    "        'WY': 'Wyoming'\n",
    "}\n"
   ]
  },
  {
   "cell_type": "code",
   "execution_count": 18,
   "metadata": {
    "id": "DsDa6AdeADoP"
   },
   "outputs": [
    {
     "name": "stderr",
     "output_type": "stream",
     "text": [
      "\n",
      "[notice] A new release of pip is available: 24.3.1 -> 25.0.1\n",
      "[notice] To update, run: python.exe -m pip install --upgrade pip\n"
     ]
    },
    {
     "name": "stdout",
     "output_type": "stream",
     "text": [
      "Requirement already satisfied: zipcodes in c:\\users\\cyber land 1\\appdata\\local\\programs\\python\\python313\\lib\\site-packages (1.3.0)\n",
      "\n",
      "Top 5 States with Most Number of Rides for Registered Users:\n",
      "           state  number_of_rides\n",
      "0  Massachusetts             2931\n",
      "1  New Hampshire               14\n",
      "2   Rhode Island               13\n",
      "3    Connecticut                5\n",
      "4     California                4\n"
     ]
    }
   ],
   "source": [
    "# CREATE ANOTHER COLUMN BASED ON STATE DERIVED TO GET STATE NAMES USING ABOVE DICTIONARY USING MAP FUNCTION, SAVE in STATE_NAME\n",
    "!pip install zipcodes\n",
    "import zipcodes\n",
    "\n",
    "# Sample the registered trips for analysis\n",
    "registered_trips_sampled = trips.query(\"sub_type == 'Registered'\").sample(3000, random_state=1)\n",
    "\n",
    "# Clean zip_code column from punctuations and replace NaN values with '0'\n",
    "registered_trips_sampled['zip_code'] = registered_trips_sampled['zip_code'].str.replace(r'\\D', '', regex=True).fillna('0')\n",
    "\n",
    "# Function to get state from zip code\n",
    "def get_state(zip_code):\n",
    "    if zip_code:\n",
    "        match = zipcodes.matching(zip_code)\n",
    "        if match:\n",
    "            return match[0].get('state')\n",
    "    return None\n",
    "\n",
    "# Apply the function to get state for each row\n",
    "registered_trips_sampled['state'] = registered_trips_sampled['zip_code'].apply(get_state)\n",
    "\n",
    "# Count the number of rides per state\n",
    "state_counts = registered_trips_sampled['state'].value_counts().reset_index()\n",
    "state_counts.columns = ['state', 'number_of_rides']\n",
    "state_counts['state'] = state_counts['state'].replace(state_names)\n",
    "# Get the top 5 states\n",
    "top_states = state_counts.head(5)\n",
    "\n",
    "# Print the result\n",
    "print(\"\\nTop 5 States with Most Number of Rides for Registered Users:\")\n",
    "print(top_states)\n"
   ]
  },
  {
   "cell_type": "markdown",
   "metadata": {
    "id": "nT01qUxmADoQ"
   },
   "source": [
    "### WE HOPE YOU ENJOYED LEARNING SQL & PYTHON TOGHETHER"
   ]
  }
 ],
 "metadata": {
  "colab": {
   "collapsed_sections": [
    "nT01qUxmADoQ"
   ],
   "provenance": []
  },
  "kernel_info": {
   "name": "python3"
  },
  "kernelspec": {
   "display_name": "Python 3",
   "language": "python",
   "name": "python3"
  },
  "language_info": {
   "codemirror_mode": {
    "name": "ipython",
    "version": 3
   },
   "file_extension": ".py",
   "mimetype": "text/x-python",
   "name": "python",
   "nbconvert_exporter": "python",
   "pygments_lexer": "ipython3",
   "version": "3.13.2"
  },
  "nteract": {
   "version": "0.25.1"
  }
 },
 "nbformat": 4,
 "nbformat_minor": 0
}
